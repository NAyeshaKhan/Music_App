{
 "cells": [
  {
   "cell_type": "code",
   "execution_count": 59,
   "id": "959ca591",
   "metadata": {},
   "outputs": [
    {
     "name": "stdout",
     "output_type": "stream",
     "text": [
      "Enter 1st Number: 10\n",
      "Enter 2nd Number: 2\n",
      "Sum: 12\n",
      "Difference: 8\n",
      "Product: 20\n",
      "Fraction: 5.0\n",
      "Modulus: 0\n",
      "2 to the power 10 : 1024\n"
     ]
    }
   ],
   "source": [
    "#Taking input\n",
    "a = int(input(\"Enter 1st Number: \"))\n",
    "b = int(input(\"Enter 2nd Number: \"))\n",
    "print(\"Sum:\",a+b)\n",
    "print(\"Difference:\",a-b)\n",
    "print(\"Product:\",a*b)\n",
    "print(\"Fraction:\",a/b)\n",
    "print(\"Modulus:\", a%b)\n",
    "print(b,\"to the power\",a,\":\",b**a )"
   ]
  },
  {
   "cell_type": "code",
   "execution_count": 60,
   "id": "b97822c3",
   "metadata": {},
   "outputs": [
    {
     "name": "stdout",
     "output_type": "stream",
     "text": [
      "10  is Even.\n",
      "2  is Even.\n"
     ]
    }
   ],
   "source": [
    "#Conditionals\n",
    "if a%2==0:\n",
    "    print(a,\" is Even.\")\n",
    "if b%2==0:\n",
    "    print(b,\" is Even.\")\n",
    "else:\n",
    "    print(\"Both are Odd.\")"
   ]
  },
  {
   "cell_type": "code",
   "execution_count": 61,
   "id": "4e3598aa",
   "metadata": {},
   "outputs": [
    {
     "name": "stdout",
     "output_type": "stream",
     "text": [
      "45\n",
      "range(10, 30, 5)\n",
      "range(5, 30, 5)\n",
      "range(10, 50, 5)\n",
      "range(5, 50, 10)\n"
     ]
    }
   ],
   "source": [
    "arr=[]\n",
    "arr=range(5,50,5)\n",
    "\n",
    "print(arr[-1])\n",
    "print(arr[1:5])\n",
    "print(arr[:5])\n",
    "print(arr[1:])\n",
    "print(arr[::2])"
   ]
  },
  {
   "cell_type": "code",
   "execution_count": 62,
   "id": "16197995",
   "metadata": {},
   "outputs": [
    {
     "name": "stdout",
     "output_type": "stream",
     "text": [
      "['SNSD', 805, 7, 2, 'Yuri']\n",
      "5\n"
     ]
    }
   ],
   "source": [
    "li=[\"SNSD\", 805, 7]\n",
    "li.append(\"Yuri\")\n",
    "li.insert(3, b)\n",
    "print(li)\n",
    "print(len(li))"
   ]
  },
  {
   "cell_type": "code",
   "execution_count": 63,
   "id": "9378a2f9",
   "metadata": {},
   "outputs": [
    {
     "name": "stdout",
     "output_type": "stream",
     "text": [
      "DATA SC.\n",
      "data sc.\n"
     ]
    }
   ],
   "source": [
    "st_1=\"Data Sc.\"\n",
    "print(st_1.upper())\n",
    "print(st_1.lower())\n",
    "st_1\n",
    "#st_1.split(\" \")\n",
    "st_2=\" is pretty rad\""
   ]
  },
  {
   "cell_type": "code",
   "execution_count": 64,
   "id": "3c2257b3",
   "metadata": {},
   "outputs": [
    {
     "name": "stdout",
     "output_type": "stream",
     "text": [
      "[1, 2, 3]\n",
      "dict_keys(['A', 5, 'B', 'C'])\n",
      "dict_values(['x', 25, 4, [1, 2, 3]])\n",
      "dict_items([('A', 'x'), (5, 25), ('B', 4), ('C', [1, 2, 3])])\n"
     ]
    }
   ],
   "source": [
    "#Dictionary\n",
    "ohno_my_dict = {\"A\":\"x\", 5: 25, \"B\": 4, \"C\": [1,2,3]}\n",
    "print(ohno_my_dict.get(\"C\"))\n",
    "print(ohno_my_dict.keys( ))\n",
    "print(ohno_my_dict.values( ))\n",
    "print(ohno_my_dict.items( ))"
   ]
  },
  {
   "cell_type": "code",
   "execution_count": 65,
   "id": "5b1395f8",
   "metadata": {},
   "outputs": [
    {
     "name": "stdout",
     "output_type": "stream",
     "text": [
      "{1, 2, 3, 4, 5, 6, 7, 8}\n",
      "{1, 2, 3, 4}\n"
     ]
    }
   ],
   "source": [
    "#Sets\n",
    "s1 = {1,2,3,4}\n",
    "s2={5,6,7,8}\n",
    "print(s1|s2)\n",
    "print(s1-s2)"
   ]
  },
  {
   "cell_type": "code",
   "execution_count": 83,
   "id": "cd538974",
   "metadata": {},
   "outputs": [
    {
     "name": "stdout",
     "output_type": "stream",
     "text": [
      "Top of stack is: 20\n"
     ]
    },
    {
     "data": {
      "text/plain": [
       "4"
      ]
     },
     "execution_count": 83,
     "metadata": {},
     "output_type": "execute_result"
    }
   ],
   "source": [
    "#Stacks\n",
    "class Stack:\n",
    "    # data\n",
    "    def __init__(self):\n",
    "        self.data = [ ]\n",
    "  #len\n",
    "    def __len__(self):\n",
    "        return len(self.data)\n",
    "    #isempty\n",
    "    def is_empty(self):\n",
    "        return len(self.data) == 0\n",
    "    #push\n",
    "    def push(self, value):\n",
    "        self.data.append(value)\n",
    "    #top\n",
    "    def top(self):\n",
    "        return self.data[-1]\n",
    "    #pop\n",
    "    def pop(self):\n",
    "        if self.is_empty( ):\n",
    "            print(\"Stack is empty\")\n",
    "        else:\n",
    "            return self.data.pop( )\n",
    "\n",
    "#Initializing stack\n",
    "stk=Stack()\n",
    "\n",
    "stk.push(5)\n",
    "stk.push(10)\n",
    "stk.push(15)\n",
    "stk.push(20)\n",
    "print(\"Top of stack is:\",stk.top())\n",
    "stk.__len__()"
   ]
  },
  {
   "cell_type": "code",
   "execution_count": 84,
   "id": "151c73eb",
   "metadata": {},
   "outputs": [
    {
     "name": "stdout",
     "output_type": "stream",
     "text": [
      "3\n",
      "Queue's elements:\n",
      "5\n",
      "10\n",
      "2\n"
     ]
    }
   ],
   "source": [
    "#Queue\n",
    "class Queue:\n",
    "    DEFAULT_CAPACITY = 10\n",
    "    \n",
    "    def __init__(self):\n",
    "        self.data = [None]*Queue.DEFAULT_CAPACITY \n",
    "        self.size = 0\n",
    "        self.front = 0\n",
    "        self.rare = 0\n",
    "    \n",
    "    def __len__(self):\n",
    "        return self.size\n",
    "    \n",
    "    def is_empty(self):\n",
    "        return self.size == 0\n",
    "    \n",
    "    def first(self):\n",
    "        if self.is_empty( ):\n",
    "            raise \"Queue is Empty\"\n",
    "        return self.data[self.front]\n",
    "    \n",
    "    def enqueue(self, element):\n",
    "        if self.is_empty( ):\n",
    "            self.data[self.front] = element\n",
    "            self.size += 1\n",
    "        elif self.size == Queue.DEFAULT_CAPACITY :\n",
    "            raise \"Queue is overflow\"\n",
    "        else:\n",
    "            self.front += 1\n",
    "            self.data[self.front] = element\n",
    "            self.size += 1\n",
    "        \n",
    "    def dequeue(self):\n",
    "        if self.is_empty( ):\n",
    "            raise \"Queue is Underflow\"\n",
    "        \n",
    "        result = self.data[self.rare]\n",
    "        self.data[self.rare] = None\n",
    "        self.rare += 1\n",
    "        self.size -= 1\n",
    "        return result\n",
    "    \n",
    "    def display(self):\n",
    "        if self.is_empty( ):\n",
    "            raise \"Queue is Empty\"\n",
    "        \n",
    "        for i in range(self.rare, self.front + 1):\n",
    "            print(self.data[i])\n",
    "\n",
    "\n",
    "q=Queue()\n",
    "q.enqueue(5)\n",
    "q.enqueue(a)\n",
    "q.enqueue(b)\n",
    "print(q.__len__())\n",
    "print(\"Queue's elements:\")\n",
    "q.display()"
   ]
  }
 ],
 "metadata": {
  "kernelspec": {
   "display_name": "Python 3 (ipykernel)",
   "language": "python",
   "name": "python3"
  },
  "language_info": {
   "codemirror_mode": {
    "name": "ipython",
    "version": 3
   },
   "file_extension": ".py",
   "mimetype": "text/x-python",
   "name": "python",
   "nbconvert_exporter": "python",
   "pygments_lexer": "ipython3",
   "version": "3.9.5"
  }
 },
 "nbformat": 4,
 "nbformat_minor": 5
}
