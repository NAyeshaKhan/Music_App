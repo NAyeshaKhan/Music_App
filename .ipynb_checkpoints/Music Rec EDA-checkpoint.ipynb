{
 "cells": [
  {
   "cell_type": "code",
   "execution_count": null,
   "id": "6899972b",
   "metadata": {},
   "outputs": [],
   "source": [
    "import pandas as pd\n",
    "import seaborn as sns\n",
    "import matplotlib.pyplot as plt"
   ]
  },
  {
   "cell_type": "code",
   "execution_count": null,
   "id": "d605b50b",
   "metadata": {},
   "outputs": [],
   "source": [
    "df = pd.read_csv('Music Genre 2022 (Responses).csv')\n",
    "df=df.drop(columns=[\"Q1\", \"Q2\", \"Q3\", \"Q4\", \"Q5\", \"Q6\", \"Q7\", \"Q8\", \"Q9\", \"Q10\"])\n",
    "df.head()"
   ]
  },
  {
   "cell_type": "code",
   "execution_count": null,
   "id": "7b55cd15",
   "metadata": {
    "scrolled": true
   },
   "outputs": [],
   "source": [
    "df.describe()"
   ]
  },
  {
   "cell_type": "code",
   "execution_count": null,
   "id": "89c63d15",
   "metadata": {},
   "outputs": [],
   "source": [
    "#Checking number of unique values and wrong entries like symbols -,?,#,*,etc.\n",
    "for col in df.columns:\n",
    "    print('{} : {}'.format(col,df[col].unique()))"
   ]
  },
  {
   "cell_type": "code",
   "execution_count": null,
   "id": "77dfad41",
   "metadata": {
    "scrolled": true
   },
   "outputs": [],
   "source": [
    "df['Gender'].value_counts().plot(kind='pie')"
   ]
  },
  {
   "cell_type": "code",
   "execution_count": null,
   "id": "ec7bb26c",
   "metadata": {},
   "outputs": [],
   "source": [
    "sns.histplot(data=df, x=\"Age\", hue=\"Profession\")"
   ]
  },
  {
   "cell_type": "code",
   "execution_count": null,
   "id": "45ef2853",
   "metadata": {},
   "outputs": [],
   "source": [
    "sns.histplot(data=df, x=\"Profession\", hue=\"Region\")"
   ]
  },
  {
   "cell_type": "code",
   "execution_count": null,
   "id": "eb687883",
   "metadata": {},
   "outputs": [],
   "source": [
    "pd.DataFrame(df['Happy'].value_counts()).style.bar(color='thistle')"
   ]
  },
  {
   "cell_type": "code",
   "execution_count": null,
   "id": "32db06f2",
   "metadata": {},
   "outputs": [],
   "source": [
    "pd.DataFrame(df['Gloomy'].value_counts()).style.bar(color='powderblue')"
   ]
  },
  {
   "cell_type": "code",
   "execution_count": null,
   "id": "5ed6b457",
   "metadata": {},
   "outputs": [],
   "source": [
    "#Boxplot between Age and Genre, coloured by Gender\n",
    "sns.boxplot(x='Age',y='Happy',hue='Gender',data=df)"
   ]
  },
  {
   "cell_type": "code",
   "execution_count": null,
   "id": "4afa9415",
   "metadata": {},
   "outputs": [],
   "source": [
    "#Relationship analysis\n",
    "sns.heatmap(df.corr(),cbar=True, annot=True, cmap='Blues')"
   ]
  },
  {
   "cell_type": "code",
   "execution_count": null,
   "id": "7b450097",
   "metadata": {},
   "outputs": [],
   "source": [
    "#Correlation between which Genre is preferred by age groups when Relaxing\n",
    "sns.heatmap(pd.crosstab(df['Age'], df['Happy']))"
   ]
  },
  {
   "cell_type": "code",
   "execution_count": null,
   "id": "63dfdc26",
   "metadata": {},
   "outputs": [],
   "source": [
    "#Correlation between which Genre is preferred by age groups when Relaxing\n",
    "sns.heatmap(pd.crosstab(df['Age'], df['Gloomy']))"
   ]
  },
  {
   "cell_type": "code",
   "execution_count": null,
   "id": "8f672760",
   "metadata": {},
   "outputs": [],
   "source": [
    "#Correlation between which Genre is preferred by age groups when Relaxing\n",
    "sns.heatmap(pd.crosstab(df['Agreeableness'], df['Happy']))"
   ]
  },
  {
   "cell_type": "code",
   "execution_count": null,
   "id": "fc390d84",
   "metadata": {},
   "outputs": [],
   "source": [
    "#Correlation between which Genre is preferred by age groups when Relaxing\n",
    "sns.heatmap(pd.crosstab(df['Agreeableness'], df['Gloomy']))"
   ]
  },
  {
   "cell_type": "code",
   "execution_count": null,
   "id": "6e3975b4",
   "metadata": {},
   "outputs": [],
   "source": []
  }
 ],
 "metadata": {
  "kernelspec": {
   "display_name": "Python 3 (ipykernel)",
   "language": "python",
   "name": "python3"
  },
  "language_info": {
   "codemirror_mode": {
    "name": "ipython",
    "version": 3
   },
   "file_extension": ".py",
   "mimetype": "text/x-python",
   "name": "python",
   "nbconvert_exporter": "python",
   "pygments_lexer": "ipython3",
   "version": "3.9.5"
  }
 },
 "nbformat": 4,
 "nbformat_minor": 5
}
