{
 "cells": [
  {
   "cell_type": "code",
   "execution_count": 239,
   "id": "1866c6b0",
   "metadata": {},
   "outputs": [],
   "source": [
    "import pandas as pd\n",
    "import seaborn as sns\n",
    "from sklearn.datasets import make_classification\n",
    "from sklearn.model_selection import train_test_split\n",
    "from sklearn.tree import DecisionTreeClassifier\n",
    "from sklearn.metrics import classification_report\n",
    "from sklearn import metrics\n",
    "from sklearn import datasets\n",
    "import matplotlib.pyplot as plt\n",
    "from imblearn.over_sampling import SMOTE\n",
    "from collections import Counter\n",
    "from matplotlib import pyplot\n",
    "from sklearn.preprocessing import LabelEncoder"
   ]
  },
  {
   "cell_type": "code",
   "execution_count": 240,
   "id": "64d696ee",
   "metadata": {},
   "outputs": [],
   "source": [
    "df = pd.read_csv('Music Genre 2022 (Responses).csv')"
   ]
  },
  {
   "cell_type": "code",
   "execution_count": 241,
   "id": "7d48fc48",
   "metadata": {},
   "outputs": [],
   "source": [
    "#Encoding the categorical variables\n",
    "from category_encoders import OrdinalEncoder\n",
    "mapping_1 = {}\n",
    "mapping_2 = {}\n",
    "\n",
    "maplist_1 = [{'col': 'Gender', \n",
    "            'mapping': mapping_1}]\n",
    "maplist_2 = [{'col': 'Region', \n",
    "            'mapping': mapping_2}]\n",
    "\n",
    "for category in sorted(list(df['Gender'].unique())):\n",
    "    mapping_1[category] = sorted(list(df['Gender'].unique())).index(category)\n",
    "     \n",
    "for category in sorted(list(df['Region'].unique())):\n",
    "    mapping_2[category] = sorted(list(df['Region'].unique())).index(category)\n",
    "\n",
    "Ordinal_Encoder_1 = OrdinalEncoder(mapping=maplist_1)\n",
    "Ordinal_Encoder_2 = OrdinalEncoder(mapping=maplist_2)\n",
    "\n",
    "df = Ordinal_Encoder_1.fit_transform(df)\n",
    "df = Ordinal_Encoder_2.fit_transform(df)"
   ]
  },
  {
   "cell_type": "code",
   "execution_count": 242,
   "id": "11913739",
   "metadata": {},
   "outputs": [
    {
     "data": {
      "text/html": [
       "<div>\n",
       "<style scoped>\n",
       "    .dataframe tbody tr th:only-of-type {\n",
       "        vertical-align: middle;\n",
       "    }\n",
       "\n",
       "    .dataframe tbody tr th {\n",
       "        vertical-align: top;\n",
       "    }\n",
       "\n",
       "    .dataframe thead th {\n",
       "        text-align: right;\n",
       "    }\n",
       "</style>\n",
       "<table border=\"1\" class=\"dataframe\">\n",
       "  <thead>\n",
       "    <tr style=\"text-align: right;\">\n",
       "      <th></th>\n",
       "      <th>Age</th>\n",
       "      <th>Gender</th>\n",
       "      <th>Region</th>\n",
       "      <th>Profession</th>\n",
       "      <th>Q1</th>\n",
       "      <th>Q2</th>\n",
       "      <th>Q3</th>\n",
       "      <th>Q4</th>\n",
       "      <th>Q5</th>\n",
       "      <th>Q6</th>\n",
       "      <th>...</th>\n",
       "      <th>Extraversion</th>\n",
       "      <th>Agreeableness</th>\n",
       "      <th>Conscientiousness</th>\n",
       "      <th>Stability</th>\n",
       "      <th>Openness</th>\n",
       "      <th>Happy</th>\n",
       "      <th>Gloomy</th>\n",
       "      <th>Stressed</th>\n",
       "      <th>Energetic</th>\n",
       "      <th>Relaxed</th>\n",
       "    </tr>\n",
       "  </thead>\n",
       "  <tbody>\n",
       "    <tr>\n",
       "      <th>0</th>\n",
       "      <td>23</td>\n",
       "      <td>0</td>\n",
       "      <td>0</td>\n",
       "      <td>2</td>\n",
       "      <td>3</td>\n",
       "      <td>5</td>\n",
       "      <td>5</td>\n",
       "      <td>5</td>\n",
       "      <td>5</td>\n",
       "      <td>6</td>\n",
       "      <td>...</td>\n",
       "      <td>2.5</td>\n",
       "      <td>3.0</td>\n",
       "      <td>4.0</td>\n",
       "      <td>5.0</td>\n",
       "      <td>5.0</td>\n",
       "      <td>Pop</td>\n",
       "      <td>Indie/Acoustic</td>\n",
       "      <td>Pop</td>\n",
       "      <td>Hip-hop</td>\n",
       "      <td>Classical/Instrumental</td>\n",
       "    </tr>\n",
       "    <tr>\n",
       "      <th>1</th>\n",
       "      <td>23</td>\n",
       "      <td>0</td>\n",
       "      <td>0</td>\n",
       "      <td>2</td>\n",
       "      <td>4</td>\n",
       "      <td>6</td>\n",
       "      <td>2</td>\n",
       "      <td>3</td>\n",
       "      <td>2</td>\n",
       "      <td>3</td>\n",
       "      <td>...</td>\n",
       "      <td>4.5</td>\n",
       "      <td>2.0</td>\n",
       "      <td>2.0</td>\n",
       "      <td>4.5</td>\n",
       "      <td>2.0</td>\n",
       "      <td>Dance/Electronica</td>\n",
       "      <td>Indie/Acoustic</td>\n",
       "      <td>Blues/Jazz</td>\n",
       "      <td>Rock/Metal</td>\n",
       "      <td>Rock/Metal</td>\n",
       "    </tr>\n",
       "    <tr>\n",
       "      <th>2</th>\n",
       "      <td>25</td>\n",
       "      <td>0</td>\n",
       "      <td>2</td>\n",
       "      <td>0</td>\n",
       "      <td>7</td>\n",
       "      <td>6</td>\n",
       "      <td>2</td>\n",
       "      <td>6</td>\n",
       "      <td>7</td>\n",
       "      <td>1</td>\n",
       "      <td>...</td>\n",
       "      <td>7.0</td>\n",
       "      <td>4.0</td>\n",
       "      <td>2.0</td>\n",
       "      <td>2.0</td>\n",
       "      <td>7.0</td>\n",
       "      <td>Hip-hop</td>\n",
       "      <td>Classical/Instrumental</td>\n",
       "      <td>Hip-hop</td>\n",
       "      <td>Rock/Metal</td>\n",
       "      <td>Classical/Instrumental</td>\n",
       "    </tr>\n",
       "    <tr>\n",
       "      <th>3</th>\n",
       "      <td>23</td>\n",
       "      <td>0</td>\n",
       "      <td>0</td>\n",
       "      <td>2</td>\n",
       "      <td>4</td>\n",
       "      <td>2</td>\n",
       "      <td>3</td>\n",
       "      <td>2</td>\n",
       "      <td>5</td>\n",
       "      <td>6</td>\n",
       "      <td>...</td>\n",
       "      <td>3.0</td>\n",
       "      <td>6.0</td>\n",
       "      <td>3.0</td>\n",
       "      <td>6.0</td>\n",
       "      <td>5.0</td>\n",
       "      <td>Dance/Electronica</td>\n",
       "      <td>Indie/Acoustic</td>\n",
       "      <td>Blues/Jazz</td>\n",
       "      <td>Hip-hop</td>\n",
       "      <td>Classical/Instrumental</td>\n",
       "    </tr>\n",
       "    <tr>\n",
       "      <th>4</th>\n",
       "      <td>24</td>\n",
       "      <td>0</td>\n",
       "      <td>0</td>\n",
       "      <td>1</td>\n",
       "      <td>5</td>\n",
       "      <td>1</td>\n",
       "      <td>4</td>\n",
       "      <td>2</td>\n",
       "      <td>1</td>\n",
       "      <td>3</td>\n",
       "      <td>...</td>\n",
       "      <td>5.0</td>\n",
       "      <td>7.0</td>\n",
       "      <td>4.5</td>\n",
       "      <td>6.5</td>\n",
       "      <td>1.5</td>\n",
       "      <td>Dance/Electronica</td>\n",
       "      <td>Indie/Acoustic</td>\n",
       "      <td>Pop</td>\n",
       "      <td>Dance/Electronica</td>\n",
       "      <td>Indie/Acoustic</td>\n",
       "    </tr>\n",
       "  </tbody>\n",
       "</table>\n",
       "<p>5 rows × 24 columns</p>\n",
       "</div>"
      ],
      "text/plain": [
       "   Age  Gender  Region  Profession  Q1  Q2  Q3  Q4  Q5  Q6  ...  Extraversion  \\\n",
       "0   23       0       0           2   3   5   5   5   5   6  ...           2.5   \n",
       "1   23       0       0           2   4   6   2   3   2   3  ...           4.5   \n",
       "2   25       0       2           0   7   6   2   6   7   1  ...           7.0   \n",
       "3   23       0       0           2   4   2   3   2   5   6  ...           3.0   \n",
       "4   24       0       0           1   5   1   4   2   1   3  ...           5.0   \n",
       "\n",
       "   Agreeableness  Conscientiousness  Stability  Openness              Happy  \\\n",
       "0            3.0                4.0        5.0       5.0                Pop   \n",
       "1            2.0                2.0        4.5       2.0  Dance/Electronica   \n",
       "2            4.0                2.0        2.0       7.0            Hip-hop   \n",
       "3            6.0                3.0        6.0       5.0  Dance/Electronica   \n",
       "4            7.0                4.5        6.5       1.5  Dance/Electronica   \n",
       "\n",
       "                   Gloomy    Stressed          Energetic  \\\n",
       "0          Indie/Acoustic         Pop            Hip-hop   \n",
       "1          Indie/Acoustic  Blues/Jazz         Rock/Metal   \n",
       "2  Classical/Instrumental     Hip-hop         Rock/Metal   \n",
       "3          Indie/Acoustic  Blues/Jazz            Hip-hop   \n",
       "4          Indie/Acoustic         Pop  Dance/Electronica   \n",
       "\n",
       "                  Relaxed  \n",
       "0  Classical/Instrumental  \n",
       "1              Rock/Metal  \n",
       "2  Classical/Instrumental  \n",
       "3  Classical/Instrumental  \n",
       "4          Indie/Acoustic  \n",
       "\n",
       "[5 rows x 24 columns]"
      ]
     },
     "execution_count": 242,
     "metadata": {},
     "output_type": "execute_result"
    }
   ],
   "source": [
    "mapping_3 = {}\n",
    "for category in sorted(list(df['Profession'].unique())):\n",
    "    mapping_3[category] = sorted(list(df['Profession'].unique())).index(category)\n",
    "\n",
    "mapping_3 = [{'col': 'Profession', \n",
    "            'mapping': mapping_3}]\n",
    "\n",
    "Ordinal_Encoder_3 = OrdinalEncoder(mapping=mapping_3)\n",
    "\n",
    "df = Ordinal_Encoder_3.fit_transform(df)\n",
    "df.head(5)"
   ]
  },
  {
   "cell_type": "code",
   "execution_count": 243,
   "id": "0accd43d",
   "metadata": {},
   "outputs": [],
   "source": [
    "#SMOTE model\n",
    "oversample = SMOTE(k_neighbors = 2)\n",
    "X=df[['Age','Gender', 'Extraversion','Agreeableness','Conscientiousness', 'Stability','Openness']]"
   ]
  },
  {
   "cell_type": "code",
   "execution_count": 244,
   "id": "fa46c6b8",
   "metadata": {},
   "outputs": [
    {
     "name": "stdout",
     "output_type": "stream",
     "text": [
      "Class=5, n=62 (14.286%)\n",
      "Class=2, n=62 (14.286%)\n",
      "Class=3, n=62 (14.286%)\n",
      "Class=4, n=62 (14.286%)\n",
      "Class=0, n=62 (14.286%)\n",
      "Class=6, n=62 (14.286%)\n",
      "Class=1, n=62 (14.286%)\n"
     ]
    },
    {
     "data": {
      "image/png": "[encoded data removed]",
      "text/plain": [
       "<Figure size 432x288 with 1 Axes>"
      ]
     },
     "metadata": {
      "needs_background": "light"
     },
     "output_type": "display_data"
    }
   ],
   "source": [
    "#For Happy\n",
    "y_happy=df['Happy']\n",
    "\n",
    "y_happy= LabelEncoder().fit_transform(y_happy)\n",
    "# transform the dataset\n",
    "X_happy, y_happy= oversample.fit_resample(X, y_happy)\n",
    "# summarize distribution\n",
    "counter = Counter(y_happy)\n",
    "for k,v in counter.items():\n",
    " per = v / len(y_happy) * 100\n",
    " print('Class=%d, n=%d (%.3f%%)' % (k, v, per))\n",
    "# plot the distribution\n",
    "pyplot.bar(counter.keys(), counter.values())\n",
    "pyplot.show()"
   ]
  },
  {
   "cell_type": "code",
   "execution_count": 245,
   "id": "36985235",
   "metadata": {},
   "outputs": [
    {
     "name": "stdout",
     "output_type": "stream",
     "text": [
      "              precision    recall  f1-score   support\n",
      "\n",
      "           0       0.60      0.55      0.57        11\n",
      "           1       0.88      0.83      0.86        18\n",
      "           2       0.78      0.58      0.67        12\n",
      "           3       0.88      0.64      0.74        11\n",
      "           4       0.93      1.00      0.97        14\n",
      "           5       0.14      0.22      0.17         9\n",
      "           6       0.57      0.67      0.62        12\n",
      "\n",
      "    accuracy                           0.68        87\n",
      "   macro avg       0.68      0.64      0.66        87\n",
      "weighted avg       0.72      0.68      0.69        87\n",
      "\n"
     ]
    }
   ],
   "source": [
    "X_train, X_test, y_train, y_test = train_test_split(X_happy, y_happy, test_size=0.2, random_state=1)\n",
    "model_happy= DecisionTreeClassifier()\n",
    "model_happy.fit(X_train, y_train)\n",
    "\n",
    "y_pred = model_happy.predict(X_test)\n",
    "print(classification_report(y_test, y_pred))"
   ]
  },
  {
   "cell_type": "code",
   "execution_count": 246,
   "id": "5e484714",
   "metadata": {},
   "outputs": [
    {
     "name": "stdout",
     "output_type": "stream",
     "text": [
      "Class=1, n=46 (12.500%)\n",
      "Class=7, n=46 (12.500%)\n",
      "Class=5, n=46 (12.500%)\n",
      "Class=0, n=46 (12.500%)\n",
      "Class=6, n=46 (12.500%)\n",
      "Class=3, n=46 (12.500%)\n",
      "Class=2, n=46 (12.500%)\n",
      "Class=4, n=46 (12.500%)\n"
     ]
    },
    {
     "data": {
      "image/png": "[encoded data removed]",
      "text/plain": [
       "<Figure size 432x288 with 1 Axes>"
      ]
     },
     "metadata": {
      "needs_background": "light"
     },
     "output_type": "display_data"
    }
   ],
   "source": [
    "#For Relaxed\n",
    "y_relaxed=df['Relaxed']\n",
    "\n",
    "#Transform the dataset\n",
    "y_relaxed= LabelEncoder().fit_transform(y_relaxed)\n",
    "X_relaxed,y_relaxed= oversample.fit_resample(X, y_relaxed)\n",
    "\n",
    "#Summarize distribution\n",
    "counter = Counter(y_relaxed)\n",
    "for k,v in counter.items():\n",
    " per = v / len(y_relaxed) * 100\n",
    " print('Class=%d, n=%d (%.3f%%)' % (k, v, per))\n",
    "\n",
    "#Plot the distribution\n",
    "pyplot.bar(counter.keys(), counter.values())\n",
    "pyplot.show()"
   ]
  },
  {
   "cell_type": "code",
   "execution_count": 247,
   "id": "edbd9d13",
   "metadata": {},
   "outputs": [
    {
     "name": "stdout",
     "output_type": "stream",
     "text": [
      "              precision    recall  f1-score   support\n",
      "\n",
      "           0       1.00      0.85      0.92        13\n",
      "           1       0.40      0.33      0.36         6\n",
      "           2       0.25      0.14      0.18         7\n",
      "           3       0.50      0.86      0.63         7\n",
      "           4       0.57      0.67      0.62        12\n",
      "           5       0.40      0.44      0.42         9\n",
      "           6       0.50      0.50      0.50        10\n",
      "           7       0.38      0.30      0.33        10\n",
      "\n",
      "    accuracy                           0.54        74\n",
      "   macro avg       0.50      0.51      0.50        74\n",
      "weighted avg       0.54      0.54      0.53        74\n",
      "\n"
     ]
    }
   ],
   "source": [
    "X_train, X_test, y_train, y_test = train_test_split(X_relaxed, y_relaxed, test_size=0.2, random_state=1)\n",
    "model_relaxed = DecisionTreeClassifier()\n",
    "model_relaxed.fit(X_train, y_train)\n",
    "\n",
    "y_pred = model_relaxed.predict(X_test)\n",
    "print(classification_report(y_test, y_pred))"
   ]
  },
  {
   "cell_type": "code",
   "execution_count": 248,
   "id": "1cf3cf56",
   "metadata": {},
   "outputs": [
    {
     "name": "stdout",
     "output_type": "stream",
     "text": [
      "Class=3, n=53 (14.286%)\n",
      "Class=6, n=53 (14.286%)\n",
      "Class=2, n=53 (14.286%)\n",
      "Class=5, n=53 (14.286%)\n",
      "Class=0, n=53 (14.286%)\n",
      "Class=1, n=53 (14.286%)\n",
      "Class=4, n=53 (14.286%)\n"
     ]
    },
    {
     "data": {
      "image/png": "[encoded data removed]",
      "text/plain": [
       "<Figure size 432x288 with 1 Axes>"
      ]
     },
     "metadata": {
      "needs_background": "light"
     },
     "output_type": "display_data"
    }
   ],
   "source": [
    "#For Energetic\n",
    "y_energetic=df['Energetic']\n",
    "\n",
    "#Transform the dataset\n",
    "y_energetic= LabelEncoder().fit_transform(y_energetic)\n",
    "X_energetic,y_energetic= oversample.fit_resample(X, y_energetic)\n",
    "# summarize distribution\n",
    "counter = Counter(y_energetic)\n",
    "for k,v in counter.items():\n",
    " per = v / len(y_energetic) * 100\n",
    " print('Class=%d, n=%d (%.3f%%)' % (k, v, per))\n",
    "# plot the distribution\n",
    "pyplot.bar(counter.keys(), counter.values())\n",
    "pyplot.show()"
   ]
  },
  {
   "cell_type": "code",
   "execution_count": 249,
   "id": "980db149",
   "metadata": {},
   "outputs": [
    {
     "name": "stdout",
     "output_type": "stream",
     "text": [
      "              precision    recall  f1-score   support\n",
      "\n",
      "           0       1.00      1.00      1.00        12\n",
      "           1       0.78      1.00      0.88         7\n",
      "           2       0.27      0.30      0.29        10\n",
      "           3       0.73      0.73      0.73        11\n",
      "           4       0.83      1.00      0.91        10\n",
      "           5       0.60      0.46      0.52        13\n",
      "           6       0.60      0.50      0.55        12\n",
      "\n",
      "    accuracy                           0.69        75\n",
      "   macro avg       0.69      0.71      0.69        75\n",
      "weighted avg       0.69      0.69      0.69        75\n",
      "\n"
     ]
    }
   ],
   "source": [
    "X_train, X_test, y_train, y_test = train_test_split(X_energetic, y_energetic, test_size=0.2, random_state=1)\n",
    "model_energetic = DecisionTreeClassifier()\n",
    "model_energetic.fit(X_train, y_train)\n",
    "\n",
    "y_pred = model_energetic.predict(X_test)\n",
    "print(classification_report(y_test, y_pred))"
   ]
  },
  {
   "cell_type": "code",
   "execution_count": 250,
   "id": "adea0da1",
   "metadata": {},
   "outputs": [
    {
     "name": "stdout",
     "output_type": "stream",
     "text": [
      "Class=6, n=41 (11.051%)\n",
      "Class=0, n=41 (11.051%)\n",
      "Class=4, n=41 (11.051%)\n",
      "Class=5, n=41 (11.051%)\n",
      "Class=3, n=41 (11.051%)\n",
      "Class=2, n=41 (11.051%)\n",
      "Class=7, n=41 (11.051%)\n",
      "Class=1, n=41 (11.051%)\n"
     ]
    },
    {
     "data": {
      "image/png": "[encoded data removed]",
      "text/plain": [
       "<Figure size 432x288 with 1 Axes>"
      ]
     },
     "metadata": {
      "needs_background": "light"
     },
     "output_type": "display_data"
    }
   ],
   "source": [
    "#For Stressed\n",
    "y_stressed=df['Stressed']\n",
    "\n",
    "#Transform the dataset\n",
    "y_stressed= LabelEncoder().fit_transform(y_stressed)\n",
    "X_stressed,y_stressed= oversample.fit_resample(X, y_stressed)\n",
    "# summarize distribution\n",
    "counter = Counter(y_stressed)\n",
    "for k,v in counter.items():\n",
    " per = v / len(y_energetic) * 100\n",
    " print('Class=%d, n=%d (%.3f%%)' % (k, v, per))\n",
    "# plot the distribution\n",
    "pyplot.bar(counter.keys(), counter.values())\n",
    "pyplot.show()"
   ]
  },
  {
   "cell_type": "code",
   "execution_count": 251,
   "id": "5cb8d2f2",
   "metadata": {},
   "outputs": [
    {
     "name": "stdout",
     "output_type": "stream",
     "text": [
      "              precision    recall  f1-score   support\n",
      "\n",
      "           0       0.55      0.75      0.63         8\n",
      "           1       0.50      0.75      0.60         4\n",
      "           2       0.75      0.67      0.71         9\n",
      "           3       0.43      0.50      0.46         6\n",
      "           4       0.25      0.29      0.27         7\n",
      "           5       0.69      0.82      0.75        11\n",
      "           6       0.78      0.64      0.70        11\n",
      "           7       0.00      0.00      0.00        10\n",
      "\n",
      "    accuracy                           0.55        66\n",
      "   macro avg       0.49      0.55      0.51        66\n",
      "weighted avg       0.51      0.55      0.52        66\n",
      "\n"
     ]
    }
   ],
   "source": [
    "X_train, X_test, y_train, y_test = train_test_split(X_stressed, y_stressed, test_size=0.2, random_state=1)\n",
    "model_stressed = DecisionTreeClassifier()\n",
    "model_stressed.fit(X_train, y_train)\n",
    "\n",
    "y_pred = model_stressed.predict(X_test)\n",
    "print(classification_report(y_test, y_pred))"
   ]
  },
  {
   "cell_type": "code",
   "execution_count": 252,
   "id": "ccb3d410",
   "metadata": {},
   "outputs": [
    {
     "name": "stdout",
     "output_type": "stream",
     "text": [
      "Class=5, n=38 (12.500%)\n",
      "Class=1, n=38 (12.500%)\n",
      "Class=0, n=38 (12.500%)\n",
      "Class=7, n=38 (12.500%)\n",
      "Class=6, n=38 (12.500%)\n",
      "Class=4, n=38 (12.500%)\n",
      "Class=2, n=38 (12.500%)\n",
      "Class=3, n=38 (12.500%)\n"
     ]
    },
    {
     "data": {
      "image/png": "[encoded data removed]",
      "text/plain": [
       "<Figure size 432x288 with 1 Axes>"
      ]
     },
     "metadata": {
      "needs_background": "light"
     },
     "output_type": "display_data"
    }
   ],
   "source": [
    "#For Gloomy\n",
    "y_gloomy=df['Gloomy']\n",
    "\n",
    "#Transform the dataset\n",
    "y_gloomy= LabelEncoder().fit_transform(y_gloomy)\n",
    "X_gloomy,y_gloomy= oversample.fit_resample(X, y_gloomy)\n",
    "# summarize distribution\n",
    "counter = Counter(y_gloomy)\n",
    "for k,v in counter.items():\n",
    " per = v / len(y_gloomy) * 100\n",
    " print('Class=%d, n=%d (%.3f%%)' % (k, v, per))\n",
    "# plot the distribution\n",
    "pyplot.bar(counter.keys(), counter.values())\n",
    "pyplot.show()"
   ]
  },
  {
   "cell_type": "code",
   "execution_count": 253,
   "id": "e2771ebd",
   "metadata": {},
   "outputs": [
    {
     "name": "stdout",
     "output_type": "stream",
     "text": [
      "              precision    recall  f1-score   support\n",
      "\n",
      "           0       0.86      1.00      0.92         6\n",
      "           1       0.40      0.33      0.36         6\n",
      "           2       0.50      0.83      0.62         6\n",
      "           3       1.00      0.83      0.91        12\n",
      "           4       0.56      0.83      0.67         6\n",
      "           5       0.44      0.50      0.47         8\n",
      "           6       0.67      0.67      0.67         6\n",
      "           7       0.60      0.27      0.37        11\n",
      "\n",
      "    accuracy                           0.64        61\n",
      "   macro avg       0.63      0.66      0.62        61\n",
      "weighted avg       0.66      0.64      0.63        61\n",
      "\n"
     ]
    }
   ],
   "source": [
    "X_train, X_test, y_train, y_test = train_test_split(X_gloomy, y_gloomy, test_size=0.2, random_state=1)\n",
    "model_gloomy = DecisionTreeClassifier()\n",
    "model_gloomy.fit(X_train, y_train)\n",
    "\n",
    "y_pred = model_gloomy.predict(X_test)\n",
    "print(classification_report(y_test, y_pred))"
   ]
  }
 ],
 "metadata": {
  "kernelspec": {
   "display_name": "Python 3 (ipykernel)",
   "language": "python",
   "name": "python3"
  },
  "language_info": {
   "codemirror_mode": {
    "name": "ipython",
    "version": 3
   },
   "file_extension": ".py",
   "mimetype": "text/x-python",
   "name": "python",
   "nbconvert_exporter": "python",
   "pygments_lexer": "ipython3",
   "version": "3.9.5"
  }
 },
 "nbformat": 4,
 "nbformat_minor": 5
}
